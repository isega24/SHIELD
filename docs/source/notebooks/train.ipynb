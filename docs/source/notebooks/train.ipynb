{
 "cells": [
  {
   "cell_type": "markdown",
   "metadata": {},
   "source": [
    "Example\n",
    "=======\n",
    "\n",
    "As a first example, we use an image dataset and a pre-trained model to classify the images. We use the `ReVel` framework to load the dataset and the model, and to perform the classification. We also the `procedures` module to help us with the classification process."
   ]
  },
  {
   "cell_type": "code",
   "execution_count": 5,
   "metadata": {},
   "outputs": [],
   "source": [
    "import torch\n",
    "from torch.utils.data import random_split\n",
    "import torch.nn.functional as F\n",
    "from torch.utils.data import DataLoader\n",
    "from ReVel.perturbations import get_perturbation\n",
    "from ReVel.load_data import load_data\n",
    "from SHIELD import SHIELD\n",
    "from SHIELD.procedures import procedures\n",
    "\n",
    "device = \"cuda\" if torch.cuda.is_available() else \"cpu\"\n",
    "# Load the model\n",
    "# Download the dataset Flowers and change the last layer to fit the number of classes\n",
    "classifier = procedures.classifier(\"efficientnet-b2\", num_classes=102)\n",
    "perturbation = get_perturbation(name=\"square\",dim=9,num_classes= 102,\n",
    "    final_size=(224, 224),kernel=150.0,max_dist=20,ratio=0.5)\n",
    "\n",
    "train_set = load_data(\"Flowers\", perturbation=perturbation, train=True, dir=\"./data/\")\n",
    "test_set = load_data(\"Flowers\", perturbation=perturbation, train=False, dir=\"./data/\")\n",
    "classifier.to(device)\n",
    "\n",
    "regularization = \"SHIELD\" # \"SHIELD\" or \"Baseline\"\n",
    "\n",
    "Train, Val = random_split(\n",
    "    train_set, [int(len(train_set) * 0.9), len(train_set) - int(len(train_set) * 0.9)]\n",
    ")\n",
    "TrainLoader = DataLoader(Train, batch_size=32, shuffle=True)\n",
    "ValLoader = DataLoader(Val, batch_size=32, shuffle=False)\n",
    "\n",
    "def loss_f(y_pred,y_label):\n",
    "    return F.cross_entropy(y_pred,torch.argmax(y_label,dim=1))\n",
    "optimizer = torch.optim.AdamW(classifier.parameters(), lr=0.001,\n",
    "    weight_decay=0.01, amsgrad=True)\n",
    "epochs = 5 # Change the number of epochs in case you need more\n",
    "best_loss = torch.tensor(float(\"inf\"))"
   ]
  },
  {
   "cell_type": "markdown",
   "metadata": {},
   "source": [
    "Training and validation phase\n",
    "============================="
   ]
  },
  {
   "cell_type": "code",
   "execution_count": null,
   "metadata": {},
   "outputs": [],
   "source": [
    "for epoch in range(epochs):\n",
    "    print(f\"Epoch :{epoch+1}, {(epoch+1)/epochs*100:.2f}%\")\n",
    "    train_loss, train_acc, train_reg = procedures.train_step(\n",
    "        ds_loader=TrainLoader,\n",
    "        model=classifier,\n",
    "        optimizer=optimizer,\n",
    "        loss_f=loss_f,\n",
    "        reg_f=lambda x, y: (SHIELD.shield(model=x, input=y, percentage=5, device=device)),\n",
    "        device=device,\n",
    "    )\n",
    "    print(f\"Train Loss: {train_loss:.4f}, Train Accuracy: {train_acc:.4f}, Train Regularization: {train_reg:.4f}\")\n",
    "    val_loss, val_acc, val_reg = procedures.validation_step(\n",
    "        ds_loader=ValLoader,\n",
    "        model=classifier,\n",
    "        loss_f=loss_f,\n",
    "        reg_f=lambda x, y: (SHIELD.shield(model=x, input=y, percentage=5, device=device)),\n",
    "        device=device,\n",
    "    )\n",
    "    print(f\"Validation Loss: {val_loss:.4f}, Validation Accuracy: {val_acc:.4f}, Validation Regularization: {val_reg:.4f}\")\n",
    "    if val_loss < best_loss:\n",
    "        best_loss = val_loss\n",
    "        torch.save(classifier.state_dict(), \"./model.pth\")"
   ]
  },
  {
   "cell_type": "markdown",
   "metadata": {},
   "source": [
    "Testing phase\n",
    "============="
   ]
  },
  {
   "cell_type": "code",
   "execution_count": null,
   "metadata": {},
   "outputs": [],
   "source": [
    "classifier.load_state_dict(torch.load(\"./model.pth\"))\n",
    "test = DataLoader(test_set, batch_size=32, shuffle=False)\n",
    "test_loss, test_acc, test_reg = procedures.validation_step(\n",
    "    ds_loader=test,\n",
    "    model=classifier,\n",
    "    loss_f=loss_f,\n",
    "    reg_f=lambda x, y: (SHIELD.shield(model=x, input=y, percentage=5, device=device)),\n",
    "    device=device,\n",
    ")\n",
    "print(f\"Test Loss: {test_loss:.4f}, Test Accuracy: {test_acc:.4f}, Test Regularization: {test_reg:.4f}\")"
   ]
  }
 ],
 "metadata": {
  "kernelspec": {
   "display_name": "Python 3",
   "language": "python",
   "name": "python3"
  },
  "language_info": {
   "codemirror_mode": {
    "name": "ipython",
    "version": 3
   },
   "file_extension": ".py",
   "mimetype": "text/x-python",
   "name": "python",
   "nbconvert_exporter": "python",
   "pygments_lexer": "ipython3",
   "version": "3.11.7"
  }
 },
 "nbformat": 4,
 "nbformat_minor": 2
}
